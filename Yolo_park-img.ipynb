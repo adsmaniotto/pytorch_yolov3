{
 "cells": [
  {
   "cell_type": "code",
   "execution_count": 16,
   "metadata": {
    "colab": {},
    "colab_type": "code",
    "id": "11sRDwtbiPBT"
   },
   "outputs": [],
   "source": [
    "#!pip install Cython\n",
    "#!git clone https://github.com/waleedka/coco\n",
    "#!pip install -U setuptools\n",
    "#!pip install -U wheel\n",
    "\n",
    "#os.getcwd()\n",
    "#!mkdir ak"
   ]
  },
  {
   "cell_type": "code",
   "execution_count": 17,
   "metadata": {
    "colab": {},
    "colab_type": "code",
    "id": "hLVvkwHlsiRu"
   },
   "outputs": [],
   "source": [
    "import argparse\n",
    "from collections import Counter\n",
    "import glob\n",
    "import os\n",
    "import pickle as pkl\n",
    "\n",
    "import cv2\n",
    "import torch\n",
    "from util import load_classes, write_results\n",
    "from darknet import Darknet\n",
    "from preprocess import prep_image\n",
    "\n",
    "\n",
    "ROOT_DIR = os.getcwd()\n",
    "\n",
    "\n",
    "def draw_object_labels(output_tensor, img, classes):\n",
    "    \"\"\"\n",
    "    Draw bounding box w/ class label for each detected object\n",
    "    \"\"\"\n",
    "    bb_coordinates1 = tuple(output_tensor[1:3].int())\n",
    "    bb_coordinates2 = tuple(output_tensor[3:5].int())\n",
    "    class_label = int(output_tensor[-1])\n",
    "\n",
    "    label = \"{0}\".format(classes[class_label])\n",
    "    color = (0,0,255)\n",
    "    cv2.rectangle(img, bb_coordinates1, bb_coordinates2, color, 1)\n",
    "    t_size = cv2.getTextSize(label, cv2.FONT_HERSHEY_PLAIN, 1, 1)[0]\n",
    "    bb_coordinates2 = bb_coordinates1[0] + t_size[0] + 3, bb_coordinates1[1] + t_size[1] + 4\n",
    "    \n",
    "    cv2.rectangle(img, bb_coordinates1, bb_coordinates2, color, -1)\n",
    "    cv2.putText(img, label, (bb_coordinates1[0], bb_coordinates1[1] + t_size[1] + 4), cv2.FONT_HERSHEY_PLAIN, 1, [225,255,255], 1);\n",
    "    return img\n",
    "\n",
    "def arg_parse():\n",
    "    parser = argparse.ArgumentParser(description='YOLO v3 Image Detection')\n",
    "   \n",
    "    parser.add_argument(\"--image\", dest = 'image', help = \n",
    "                        \"Image to run detection upon\",\n",
    "                        default = \"test_img.jpg\", type = str)\n",
    "    parser.add_argument(\"--dataset\", dest = \"dataset\", help = \"Dataset on which the network has been trained\", default = \"pascal\")\n",
    "    parser.add_argument(\"--cfg\", dest = 'cfgfile', help = \n",
    "                        \"Config file\",\n",
    "                        default = \"./cfg/yolov3.cfg\", type = str)\n",
    "    parser.add_argument(\"--weights\", dest = 'weightsfile', help = \n",
    "                        \"weightsfile\",\n",
    "                        default = \"yolov3.weights\", type = str)\n",
    "    parser.add_argument(\"--reso\", dest = 'reso', help = \n",
    "                        \"Input resolution of the network. Increase to increase accuracy. Decrease to increase speed\",\n",
    "                        default = \"704\", type = str)\n",
    "    \n",
    "    args = parser.parse_args(args=[])\n",
    "    \n",
    "    return args"
   ]
  },
  {
   "cell_type": "code",
   "execution_count": 39,
   "metadata": {},
   "outputs": [
    {
     "name": "stdout",
     "output_type": "stream",
     "text": [
      "Loading network.....\n",
      "Network successfully loaded\n",
      "Class counts: Counter({'car': 22, 'truck': 2})\n",
      "Total objects detected: 24\n"
     ]
    }
   ],
   "source": [
    "def evaluate_image(filepath):\n",
    "    args = arg_parse()\n",
    "    \n",
    "    print(\"Loading network.....\")\n",
    "    model = Darknet(args.cfgfile)\n",
    "    model.load_weights(args.weightsfile)\n",
    "    print(\"Network successfully loaded\")\n",
    "\n",
    "    model.net_info[\"height\"] = args.reso\n",
    "    inp_dim = int(model.net_info[\"height\"])\n",
    "\n",
    "    model.eval()\n",
    "    \n",
    "    img = cv2.imread(filepath)\n",
    "    img, orig_im, dim = prep_image(filepath, inp_dim)\n",
    "    im_dim = torch.FloatTensor(dim).repeat(1,2)\n",
    "\n",
    "    with torch.no_grad():   \n",
    "        output = model(torch.autograd.Variable(img), False)\n",
    "    classes = load_classes('data/coco.names')\n",
    "    output = write_results(output, confidence=0.5, num_classes=len(classes), nms=True, nms_conf=0.4)\n",
    "    \n",
    "    class_counter = Counter([classes[int(obj[-1])] for obj in output])\n",
    "    print(\"Class counts: \" + str(class_counter))\n",
    "    \n",
    "    tot_objects = output.size(0)\n",
    "    tot_objs_str = f\"Total objects detected: {tot_objects}\"\n",
    "    print(tot_objs_str)\n",
    "    \n",
    "    colors = pkl.load(open(\"pallete\", \"rb\"))\n",
    "\n",
    "    im_dim = im_dim.repeat(tot_objects, 1)\n",
    "    scaling_factor = torch.min(inp_dim/im_dim,1)[0].view(-1,1)\n",
    "\n",
    "    output[:,[1,3]] -= (inp_dim - scaling_factor*im_dim[:,0].view(-1,1))/2\n",
    "    output[:,[2,4]] -= (inp_dim - scaling_factor*im_dim[:,1].view(-1,1))/2\n",
    "\n",
    "    output[:,1:5] /= scaling_factor\n",
    "\n",
    "    for i in range(output.shape[0]):\n",
    "        output[i, [1,3]] = torch.clamp(output[i, [1,3]], 0.0, im_dim[i,0])\n",
    "        output[i, [2,4]] = torch.clamp(output[i, [2,4]], 0.0, im_dim[i,1])\n",
    "\n",
    "    list(map(lambda x: draw_object_labels(x, orig_im, classes), output))\n",
    "    cv2.putText(orig_im, tot_objs_str, (5,30), cv2.FONT_HERSHEY_SIMPLEX, 1, [255,255,255], 2, cv2.LINE_AA)\n",
    "\n",
    "    name = os.path.join('./ak', 'test_output.jpg')\n",
    "    cv2.imwrite(name, orig_im)\n",
    "    return output\n",
    "\n",
    "output = evaluate_image(\"test_img.jpg\")"
   ]
  },
  {
   "cell_type": "code",
   "execution_count": 31,
   "metadata": {},
   "outputs": [
    {
     "data": {
      "text/plain": [
       "tensor([0.0000e+00, 9.5784e+02, 3.2019e+02, 1.1513e+03, 4.6212e+02, 9.9970e-01,\n",
       "        9.2276e-01, 2.0000e+00])"
      ]
     },
     "execution_count": 31,
     "metadata": {},
     "output_type": "execute_result"
    }
   ],
   "source": [
    "output[0]"
   ]
  },
  {
   "cell_type": "code",
   "execution_count": null,
   "metadata": {},
   "outputs": [],
   "source": []
  }
 ],
 "metadata": {
  "accelerator": "GPU",
  "colab": {
   "collapsed_sections": [],
   "include_colab_link": true,
   "name": "Yolo_park.ipynb",
   "provenance": [],
   "version": "0.3.2"
  },
  "kernelspec": {
   "display_name": "ds",
   "language": "python",
   "name": "ds"
  },
  "language_info": {
   "codemirror_mode": {
    "name": "ipython",
    "version": 3
   },
   "file_extension": ".py",
   "mimetype": "text/x-python",
   "name": "python",
   "nbconvert_exporter": "python",
   "pygments_lexer": "ipython3",
   "version": "3.6.8"
  }
 },
 "nbformat": 4,
 "nbformat_minor": 2
}
